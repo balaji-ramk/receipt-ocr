{
 "cells": [
  {
   "cell_type": "code",
   "execution_count": 255,
   "metadata": {},
   "outputs": [],
   "source": [
    "import cv2\n",
    "import numpy as np\n",
    "import pytesseract\n"
   ]
  },
  {
   "cell_type": "code",
   "execution_count": 256,
   "metadata": {},
   "outputs": [],
   "source": [
    "image = cv2.imread('images/receipt_image.jpg', 0)\n",
    "color = cv2.imread('images/receipt_image.jpg')\n",
    "hsv = cv2.cvtColor(color, cv2.COLOR_BGR2HSV)\n",
    "\n",
    "hue, saturation, value = cv2.split(hsv)"
   ]
  },
  {
   "cell_type": "code",
   "execution_count": 257,
   "metadata": {},
   "outputs": [],
   "source": [
    "def show(image):\n",
    "    \n",
    "    resized_height = 720\n",
    "    percent = resized_height / len(image)\n",
    "    resized_width = int(percent * len(image[0]))\n",
    "    gray = cv2.resize(image,(resized_width,resized_height))\n",
    "\n",
    "    cv2.imshow('cringe', gray)\n",
    "    cv2.waitKey(0)\n",
    "    cv2.destroyAllWindows()"
   ]
  },
  {
   "cell_type": "code",
   "execution_count": 258,
   "metadata": {},
   "outputs": [],
   "source": [
    "if np.mean(color) < 128:\n",
    "    thresh = cv2.threshold(hue, 0, 255, cv2.THRESH_BINARY_INV + cv2.THRESH_OTSU)[1]\n",
    "else:\n",
    "    thresh = cv2.threshold(hue, 0, 255, cv2.THRESH_BINARY + cv2.THRESH_OTSU)[1]"
   ]
  },
  {
   "cell_type": "code",
   "execution_count": 259,
   "metadata": {},
   "outputs": [],
   "source": [
    "eroded = cv2.erode(thresh, kernel=None, iterations=7)\n",
    "dilated = cv2.dilate(eroded, kernel=None, iterations=15)\n",
    "eroded = cv2.erode(dilated, kernel=None, iterations=100)\n",
    "dilated = cv2.dilate(eroded, kernel=None, iterations=100)"
   ]
  },
  {
   "cell_type": "code",
   "execution_count": 260,
   "metadata": {},
   "outputs": [],
   "source": [
    "show(dilated)"
   ]
  },
  {
   "cell_type": "code",
   "execution_count": 261,
   "metadata": {},
   "outputs": [],
   "source": [
    "def extract_largest_rectangular_contour(color_image, preprocessed_image):\n",
    "    contours, _ = cv2.findContours(preprocessed_image, cv2.RETR_EXTERNAL, cv2.CHAIN_APPROX_SIMPLE)\n",
    "    largest_contour = None\n",
    "    largest_area = 0\n",
    "    largest_approx = None\n",
    "    \n",
    "    for contour in contours:\n",
    "        peri = cv2.arcLength(contour, True)\n",
    "        approx = cv2.approxPolyDP(contour, 0.02 * peri, True)\n",
    "        if len(approx) == 4:\n",
    "            area = cv2.contourArea(contour)\n",
    "            if area > largest_area:\n",
    "                largest_area = area\n",
    "                largest_contour = contour\n",
    "                largest_approx = approx\n",
    "                \n",
    "    if largest_contour is not None:\n",
    "        cv2.drawContours(color_image, [largest_approx], -1, (0, 255, 0), 3)\n",
    "        # x, y, w, h = cv2.boundingRect(largest_contour)\n",
    "        # cv2.rectangle(color_image, (x, y), (x + w, y + h), (0, 0, 255), 2)\n",
    "        return color_image, largest_approx\n",
    "    \n",
    "    return color_image, None"
   ]
  },
  {
   "cell_type": "code",
   "execution_count": 262,
   "metadata": {},
   "outputs": [],
   "source": [
    "im, cor = extract_largest_rectangular_contour(color, dilated)\n",
    "show(im)"
   ]
  },
  {
   "cell_type": "code",
   "execution_count": 263,
   "metadata": {},
   "outputs": [],
   "source": [
    "top = max(cor[0][0][1], cor[3][0][1])\n",
    "bottom = min(cor[1][0][1], cor[2][0][1])\n",
    "left = max(cor[0][0][0], cor[1][0][0])\n",
    "right = min(cor[2][0][0], cor[3][0][0])\n",
    "cropped = image[top:bottom, left:right]\n",
    "show(cropped)"
   ]
  },
  {
   "cell_type": "code",
   "execution_count": 264,
   "metadata": {},
   "outputs": [],
   "source": [
    "def order_points(coords):\n",
    "    pts = coords - [left, top]\n",
    "    pts = pts.reshape(4, 2)\n",
    "    sum_pts = pts.sum(axis=1)\n",
    "    diff_pts = np.diff(pts, axis=1)\n",
    "    \n",
    "    top_left = pts[np.argmin(sum_pts)]\n",
    "    top_right = pts[np.argmin(diff_pts)]\n",
    "    bottom_right = pts[np.argmax(sum_pts)]\n",
    "    bottom_left = pts[np.argmax(diff_pts)]\n",
    "    \n",
    "    return np.array([top_left, top_right, bottom_right, bottom_left])\n",
    "\n",
    "def calculate_size(img, ordered):\n",
    "    width = int(img.shape[1] * 0.9)\n",
    "    aspect_ratio = np.linalg.norm(ordered[0] - ordered[3]) / np.linalg.norm(ordered[0] - ordered[1])\n",
    "    return width, int(width * aspect_ratio)\n",
    "\n",
    "def process_image(img, contour):\n",
    "    ordered = order_points(contour)\n",
    "    img_with_pts = img.copy()\n",
    "    for pt in ordered:\n",
    "        img_with_pts = cv2.circle(img_with_pts, tuple(pt), 10, (255, 255, 255), -1)\n",
    "  \n",
    "    w, h = calculate_size(img, ordered)\n",
    "    \n",
    "    pts1 = np.float32(ordered)\n",
    "    pts2 = np.float32([[0, 0], [w, 0], [w, h], [0, h]])\n",
    "    matrix = cv2.getPerspectiveTransform(pts1, pts2)\n",
    "    \n",
    "    corrected_img = cv2.warpPerspective(img, matrix, (w, h))\n",
    "    \n",
    "    return img_with_pts, corrected_img"
   ]
  },
  {
   "cell_type": "code",
   "execution_count": 265,
   "metadata": {},
   "outputs": [],
   "source": [
    "_, corrected = process_image(cropped, cor)\n",
    "show(corrected)"
   ]
  },
  {
   "cell_type": "code",
   "execution_count": 266,
   "metadata": {},
   "outputs": [],
   "source": [
    "# clahe = cv2.createCLAHE(clipLimit=2.0, tileGridSize=(8, 8))\n",
    "# clahe_img = clahe.apply(corrected)\n",
    "# show(clahe_img)"
   ]
  },
  {
   "cell_type": "code",
   "execution_count": 267,
   "metadata": {},
   "outputs": [],
   "source": [
    "def unsharp_masking(image, k=1):\n",
    "    blur = cv2.GaussianBlur(image, (11,11), 0)\n",
    "    return cv2.addWeighted(image, k+1, blur, -k, 1)"
   ]
  },
  {
   "cell_type": "code",
   "execution_count": 268,
   "metadata": {},
   "outputs": [],
   "source": [
    "unsharp = unsharp_masking(corrected, 11)\n",
    "show(unsharp)"
   ]
  },
  {
   "cell_type": "code",
   "execution_count": 269,
   "metadata": {},
   "outputs": [],
   "source": [
    "thresh = np.where(unsharp > 64, 255, 0).astype(np.uint8)\n",
    "show(thresh)"
   ]
  },
  {
   "cell_type": "code",
   "execution_count": 270,
   "metadata": {},
   "outputs": [
    {
     "name": "stdout",
     "output_type": "stream",
     "text": [
      "BACCHUS INN”\n",
      "far A Restaurant\n",
      "Coatnsgar.hantoa!\n",
      "= CASH HEN ==\n",
      "Sones att wo, : SESS\n",
      "Hetoe T5\n",
      "\n",
      "Oty Rate, anount\n",
      "\n",
      "FINGER CHIPS, 1\n",
      "CH] GHEE ROAST BONLESS\n",
      "Fue\n",
      "\n",
      "CHI SHEE ROAST BONLESS\n",
      "HALE\n",
      "\n",
      "eRISPY CORN\n",
      "ORAGON CH\n",
      "\n",
      "ANAL RAWA FRY\n",
      "ARDARA KARAS\n",
      "\n",
      "SOFT DRUIKS SOOM.\n",
      "SERVICE CaBRE\n",
      "BOTTLE WATER 1 UR\n",
      "\n",
      "2230.00\n",
      "\n",
      "TEACHERS 69 HL PET 285\n",
      "\n",
      "1\n",
      "\n",
      "FC LUYURY 30H. 7 6 © 420\n",
      "BLACK DOG SOM 3150480\n",
      "BUWISER MASNEM 30M. 7-200 1400\n",
      "PCMONGY YOGHA 20H. 1B GOS.\n",
      "ADVAN CHIPS. to 20\n",
      "BAISHY SOUR 10 0\n",
      "\n",
      "VAS/3\n",
      "\n",
      "cstinsaerureeagonis\n",
      "\n",
      "aPricg inclusive of All Taxesé\n",
      "EOE, Thank You Vistt‘Avain\n",
      "\n",
      "WT\n",
      "\n",
      " \n",
      "\f\n"
     ]
    }
   ],
   "source": [
    "text = pytesseract.image_to_string(thresh)\n",
    "sentences=text.split('\\n')\n",
    "for s in sentences:\n",
    "    print(s)"
   ]
  },
  {
   "cell_type": "code",
   "execution_count": 271,
   "metadata": {},
   "outputs": [
    {
     "name": "stdout",
     "output_type": "stream",
     "text": [
      "[2024/11/08 23:43:01] ppocr DEBUG: Namespace(alpha=1.0, alphacolor=(255, 255, 255), benchmark=False, beta=1.0, binarize=False, cls_batch_num=6, cls_image_shape='3, 48, 192', cls_model_dir='/home/ankur/.paddleocr/whl/cls/ch_ppocr_mobile_v2.0_cls_infer', cls_thresh=0.9, cpu_threads=10, crop_res_save_dir='./output', det=True, det_algorithm='DB', det_box_type='quad', det_db_box_thresh=0.6, det_db_score_mode='fast', det_db_thresh=0.3, det_db_unclip_ratio=1.5, det_east_cover_thresh=0.1, det_east_nms_thresh=0.2, det_east_score_thresh=0.8, det_limit_side_len=960, det_limit_type='max', det_model_dir='/home/ankur/.paddleocr/whl/det/en/en_PP-OCRv3_det_infer', det_pse_box_thresh=0.85, det_pse_min_area=16, det_pse_scale=1, det_pse_thresh=0, det_sast_nms_thresh=0.2, det_sast_score_thresh=0.5, draw_img_save_dir='./inference_results', drop_score=0.5, e2e_algorithm='PGNet', e2e_char_dict_path='./ppocr/utils/ic15_dict.txt', e2e_limit_side_len=768, e2e_limit_type='max', e2e_model_dir=None, e2e_pgnet_mode='fast', e2e_pgnet_score_thresh=0.5, e2e_pgnet_valid_set='totaltext', enable_mkldnn=False, formula=False, formula_algorithm='LaTeXOCR', formula_batch_num=1, formula_char_dict_path=None, formula_model_dir=None, fourier_degree=5, gpu_id=0, gpu_mem=500, help='==SUPPRESS==', image_dir=None, image_orientation=False, invert=False, ir_optim=True, kie_algorithm='LayoutXLM', label_list=['0', '180'], lang='en', layout=True, layout_dict_path=None, layout_model_dir=None, layout_nms_threshold=0.5, layout_score_threshold=0.5, max_batch_size=10, max_text_length=25, merge_no_span_structure=True, min_subgraph_size=15, mode='structure', ocr=True, ocr_order_method=None, ocr_version='PP-OCRv4', output='./output', page_num=0, precision='fp32', process_id=0, re_model_dir=None, rec=True, rec_algorithm='SVTR_LCNet', rec_batch_num=6, rec_char_dict_path='/home/ankur/.local/lib/python3.8/site-packages/paddleocr/ppocr/utils/en_dict.txt', rec_image_inverse=True, rec_image_shape='3, 48, 320', rec_model_dir='/home/ankur/.paddleocr/whl/rec/en/en_PP-OCRv4_rec_infer', recovery=False, recovery_to_markdown=False, return_word_box=False, save_crop_res=False, save_log_path='./log_output/', savefile=False, scales=[8, 16, 32], ser_dict_path='../train_data/XFUND/class_list_xfun.txt', ser_model_dir=None, show_log=True, sr_batch_num=1, sr_image_shape='3, 32, 128', sr_model_dir=None, structure_version='PP-StructureV2', table=True, table_algorithm='TableAttn', table_char_dict_path=None, table_max_len=488, table_model_dir=None, total_process_num=1, type='ocr', use_angle_cls=True, use_dilation=False, use_gpu=False, use_mlu=False, use_mp=False, use_npu=False, use_onnx=False, use_pdf2docx_api=False, use_pdserving=False, use_space_char=True, use_tensorrt=False, use_visual_backbone=True, use_xpu=False, vis_font_path='./doc/fonts/simfang.ttf', warmup=False)\n",
      "[2024/11/08 23:43:02] ppocr DEBUG: dt_boxes num : 91, elapsed : 0.13064908981323242\n",
      "[2024/11/08 23:43:03] ppocr DEBUG: cls num  : 91, elapsed : 0.16219091415405273\n",
      "[2024/11/08 23:43:06] ppocr DEBUG: rec_res num  : 91, elapsed : 3.486591100692749\n",
      "Detected text: BACCHUS INN with confidence: 0.9566199779510498\n",
      "Detected text: Asra Restaurant with confidence: 0.7832043766975403\n",
      "Detected text: Laxainagar.Hanipa1 with confidence: 0.7903514504432678\n",
      "Detected text: C with confidence: 0.7428357005119324\n",
      "Detected text: ate14/09/24 with confidence: 0.9327461123466492\n",
      "Detected text: i.h.s with confidence: 0.6599348783493042\n",
      "Detected text: Bo. with confidence: 0.7740935683250427\n",
      "Detected text: H.NO. with confidence: 0.7086387276649475\n",
      "Detected text: : 1$ with confidence: 0.7596237063407898\n",
      "Detected text: Itet with confidence: 0.8567014336585999\n",
      "Detected text: Oty Rate Arnt with confidence: 0.8795357942581177\n",
      "Detected text: FINGER CHIPS with confidence: 0.9161155223846436\n",
      "Detected text: CHI GHEE ROAST BONLESS with confidence: 0.8351373076438904\n",
      "Detected text: 110 with confidence: 0.9984816908836365\n",
      "Detected text: 110 with confidence: 0.9767290949821472\n",
      "Detected text: FULL with confidence: 0.9854763746261597\n",
      "Detected text: 1 with confidence: 0.9983117580413818\n",
      "Detected text: 483 with confidence: 0.7596890330314636\n",
      "Detected text: 430. with confidence: 0.8106804490089417\n",
      "Detected text: CHI GHEE ROAST BONLESS with confidence: 0.8320955634117126\n",
      "Detected text: HALF with confidence: 0.9841945767402649\n",
      "Detected text: 1 with confidence: 0.7581934928894043\n",
      "Detected text: 270 with confidence: 0.9783668518066406\n",
      "Detected text: 270 :: with confidence: 0.7982416152954102\n",
      "Detected text: CRISPYCORN with confidence: 0.935189425945282\n",
      "Detected text: CRAGOHCH with confidence: 0.7699482440948486\n",
      "Detected text: 200 with confidence: 0.8851754665374756\n",
      "Detected text: 200 with confidence: 0.8807517886161804\n",
      "Detected text: ANJAL RAHA FRY with confidence: 0.8807154297828674\n",
      "Detected text: 1 with confidence: 0.6722778677940369\n",
      "Detected text: 260 with confidence: 0.896554172039032\n",
      "Detected text: 260 with confidence: 0.957186222076416\n",
      "Detected text: ANGARAKABA3 with confidence: 0.7147133946418762\n",
      "Detected text: 1 with confidence: 0.9990148544311523\n",
      "Detected text: 400 with confidence: 0.948208749294281\n",
      "Detected text: 400 with confidence: 0.9971659779548645\n",
      "Detected text: SOFT DRS 5OOML with confidence: 0.733243465423584\n",
      "Detected text: 1 with confidence: 0.9991324543952942\n",
      "Detected text: 320 with confidence: 0.9959006309509277\n",
      "Detected text: $20 with confidence: 0.835806667804718\n",
      "Detected text: SERVICE CHAAGE with confidence: 0.9025229215621948\n",
      "Detected text: 1 with confidence: 0.9998853206634521\n",
      "Detected text: 70 with confidence: 0.9770725965499878\n",
      "Detected text: 70 with confidence: 0.9547605514526367\n",
      "Detected text: 60 with confidence: 0.9670318365097046\n",
      "Detected text: 1 with confidence: 0.9269660711288452\n",
      "Detected text: SOTTLE MATER LTR with confidence: 0.7804975509643555\n",
      "Detected text: 60 with confidence: 0.9778478741645813\n",
      "Detected text: 2 with confidence: 0.9994507431983948\n",
      "Detected text: 30 with confidence: 0.9911586046218872\n",
      "Detected text: 60 with confidence: 0.8527106642723083\n",
      "Detected text: Food Total  with confidence: 0.9136887192726135\n",
      "Detected text: 2230.00 with confidence: 0.980395495891571\n",
      "Detected text: TEACHERS 6OKL PET with confidence: 0.8118993043899536\n",
      "Detected text: 1 with confidence: 0.9968793392181396\n",
      "Detected text: 205 with confidence: 0.7803695797920227\n",
      "Detected text: 265 with confidence: 0.9955636858940125\n",
      "Detected text: PC LURY30ML with confidence: 0.8019893765449524\n",
      "Detected text: LACK COG 3OML with confidence: 0.722786545753479\n",
      "Detected text: 7 with confidence: 0.9959779977798462\n",
      "Detected text: 60 with confidence: 0.7180166840553284\n",
      "Detected text: 420 with confidence: 0.9979403614997864\n",
      "Detected text: 3150 with confidence: 0.9904861450195312\n",
      "Detected text: 450 with confidence: 0.9896842837333679\n",
      "Detected text: SA3ML with confidence: 0.5895916819572449\n",
      "Detected text: 200 with confidence: 0.8295686841011047\n",
      "Detected text: 1400 with confidence: 0.9891185164451599\n",
      "Detected text: PCHONOYYOCKA 3CHL with confidence: 0.7573218941688538\n",
      "Detected text: 16 with confidence: 0.9989238977432251\n",
      "Detected text: 60 with confidence: 0.9946832656860352\n",
      "Detected text: 960 with confidence: 0.8286481499671936\n",
      "Detected text: ADVAN CHIPS with confidence: 0.9386440515518188\n",
      "Detected text: 01 with confidence: 0.9883356094360352\n",
      "Detected text: 20 with confidence: 0.9386633038520813\n",
      "Detected text: 200 with confidence: 0.9523057341575623\n",
      "Detected text: HHISYSOUR with confidence: 0.8392881751060486\n",
      "Detected text: 300 with confidence: 0.9587299227714539\n",
      "Detected text: 300 with confidence: 0.9881763458251953\n",
      "Detected text: Liquor Totel : with confidence: 0.8196023106575012\n",
      "Detected text: 4015.00 with confidence: 0.9806985259056091\n",
      "Detected text: 17/115/3 with confidence: 0.9997270703315735\n",
      "Detected text: Jotal : with confidence: 0.9583719372749329\n",
      "Detected text: 6245 with confidence: 0.9898954629898071\n",
      "Detected text: GSTIN29AFLPP4369R128 with confidence: 0.8798198699951172\n",
      "Detected text: 1 with confidence: 0.5453000664710999\n",
      "Detected text: E.O.E. with confidence: 0.848534107208252\n",
      "Detected text: Thark You with confidence: 0.8518635034561157\n",
      "Detected text: Yisit Acain with confidence: 0.7232137322425842\n",
      "Detected text: HT with confidence: 0.9508044719696045\n"
     ]
    }
   ],
   "source": [
    "from paddleocr import PaddleOCR\n",
    "\n",
    "ocr = PaddleOCR(use_angle_cls=True, lang='en')  \n",
    "\n",
    "result = ocr.ocr(thresh, cls=True)\n",
    "\n",
    "for line in result[0]:\n",
    "    print(f\"Detected text: {line[1][0]} with confidence: {line[1][1]}\")"
   ]
  },
  {
   "cell_type": "code",
   "execution_count": 272,
   "metadata": {},
   "outputs": [
    {
     "name": "stderr",
     "output_type": "stream",
     "text": [
      "WARNING:easyocr.easyocr:Neither CUDA nor MPS are available - defaulting to CPU. Note: This module is much faster with a GPU.\n"
     ]
    },
    {
     "name": "stdout",
     "output_type": "stream",
     "text": [
      "Detected text: BACCHUS with confidence: 0.9886242994701175\n",
      "Detected text: INN with confidence: 0.8623996734977019\n",
      "Detected text: Mr with confidence: 0.12001676718911852\n",
      "Detected text: Festauram with confidence: 0.6476787484592748\n",
      "Detected text: Laxinoxr Honlpal with confidence: 0.13554649467996352\n",
      "Detected text: Casy hin with confidence: 0.025907343226557075\n",
      "Detected text: G&; with confidence: 0.11120615107758094\n",
      "Detected text: 88/09r24 with confidence: 0.4278346884374021\n",
      "Detected text: B with confidence: 0.10824091905023181\n",
      "Detected text: m. with confidence: 0.28639958028833695\n",
      "Detected text: S951 with confidence: 0.08385501056909561\n",
      "Detected text: No . with confidence: 0.2053610029537157\n",
      "Detected text: Itez with confidence: 0.5512901544570923\n",
      "Detected text: Oty Rate with confidence: 0.7404747270779826\n",
      "Detected text: Arurt with confidence: 0.7611616582955898\n",
      "Detected text: FIKGER CXIp5 with confidence: 0.3765034395559343\n",
      "Detected text: CHI GZE RJRST EOXLesS with confidence: 0.09115755743618592\n",
      "Detected text: 488 with confidence: 0.7193801713863561\n",
      "Detected text: 110 with confidence: 0.5218566663847162\n",
      "Detected text: FULL with confidence: 0.4979327619075775\n",
      "Detected text: 430 with confidence: 0.9941571473935283\n",
      "Detected text: CHIcG4EE Roxst  BJXLESS with confidence: 0.20326744871034486\n",
      "Detected text: 270 with confidence: 0.9979704052236328\n",
      "Detected text: 270 with confidence: 0.9984965892840428\n",
      "Detected text: HALF with confidence: 0.7470129132270813\n",
      "Detected text: cRISPy Cork with confidence: 0.1230052124824274\n",
      "Detected text: WzAgoX CI with confidence: 0.06655422530945682\n",
      "Detected text: ANJAL R4KA FrY with confidence: 0.16388474780668172\n",
      "Detected text: Ma64 03lars 5oohl with confidence: 0.0008273696837617177\n",
      "Detected text: U with confidence: 0.061294251233251495\n",
      "Detected text: SEAVICE Ciace with confidence: 0.08857758364290136\n",
      "Detected text: 8 with confidence: 0.09188398510383422\n",
      "Detected text: SWMTLE MRIS with confidence: 0.023927997714375496\n",
      "Detected text: LTR with confidence: 0.7471138812143739\n",
      "Detected text: Focd Tptal with confidence: 0.8579748419199021\n",
      "Detected text: 2230.00 with confidence: 0.20661263456497206\n",
      "Detected text: TeXcHERS 63 KL PET with confidence: 0.20465335414081576\n",
      "Detected text: 2685 with confidence: 0.49457788467407227\n",
      "Detected text: KC Lulry 30hd with confidence: 0.1806770352450199\n",
      "Detected text: BlacK CoC 3c+L with confidence: 0.024684676981479418\n",
      "Detected text: 38 with confidence: 0.2406283004448297\n",
      "Detected text: BcrngE OCex YorCgyl with confidence: 0.0003479355170573859\n",
      "Detected text: 1 with confidence: 0.39752734215886676\n",
      "Detected text: 1400 with confidence: 0.8178633451461792\n",
      "Detected text: Kovxk CHIPS with confidence: 0.2548294647793083\n",
      "Detected text: Ig with confidence: 0.44578875642631643\n",
      "Detected text: 368 with confidence: 0.15547185007420802\n",
      "Detected text: KHIZ,Y SOUR with confidence: 0.15358441387909721\n",
      "Detected text: 300 with confidence: 0.6956517524933234\n",
      "Detected text: Llqur Total with confidence: 0.7005826857733652\n",
      "Detected text: @1s.w  with confidence: 0.09513998631665661\n",
      "Detected text: 17/115/3 with confidence: 0.8433678913164397\n",
      "Detected text: Jota] with confidence: 0.3225830354965432\n",
      "Detected text: 16245 with confidence: 0.3173914012165049\n",
      "Detected text: GSTIN;ZEAFLFR43693128 with confidence: 0.11855831885459628\n",
      "Detected text: 'Price Incliive of AI with confidence: 0.36887188367630963\n",
      "Detected text: Taxes: with confidence: 0.5903830352035914\n",
      "Detected text: E.to.E_ with confidence: 0.6625685837959987\n",
      "Detected text: Ihank You with confidence: 0.37838309535705056\n",
      "Detected text: WisIt  Aoaiq with confidence: 0.0965332451374311\n",
      "Detected text: HUT with confidence: 0.05972274260648209\n"
     ]
    }
   ],
   "source": [
    "import easyocr\n",
    "\n",
    "reader = easyocr.Reader(['en'])  \n",
    "\n",
    "result = reader.readtext(thresh)\n",
    "\n",
    "for detection in result:\n",
    "    text = detection[1]\n",
    "    confidence = detection[2]\n",
    "    print(f\"Detected text: {text} with confidence: {confidence}\")"
   ]
  }
 ],
 "metadata": {
  "kernelspec": {
   "display_name": "Python 3",
   "language": "python",
   "name": "python3"
  },
  "language_info": {
   "codemirror_mode": {
    "name": "ipython",
    "version": 3
   },
   "file_extension": ".py",
   "mimetype": "text/x-python",
   "name": "python",
   "nbconvert_exporter": "python",
   "pygments_lexer": "ipython3",
   "version": "3.8.10"
  }
 },
 "nbformat": 4,
 "nbformat_minor": 2
}
