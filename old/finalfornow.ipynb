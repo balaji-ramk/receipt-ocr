{
 "cells": [
  {
   "cell_type": "code",
   "execution_count": 8,
   "metadata": {},
   "outputs": [],
   "source": [
    "%%capture\n",
    "! pip install opencv-python numpy pytesseract PaddleOCR easyocr\n"
   ]
  },
  {
   "cell_type": "code",
   "execution_count": 9,
   "metadata": {},
   "outputs": [],
   "source": [
    "import cv2\n",
    "import numpy as np\n",
    "import pytesseract"
   ]
  },
  {
   "cell_type": "code",
   "execution_count": 10,
   "metadata": {},
   "outputs": [],
   "source": [
    "image = cv2.imread('images/receipt_image.jpg', 0)\n",
    "color = cv2.imread('images/receipt_image.jpg')\n",
    "hsv = cv2.cvtColor(color, cv2.COLOR_BGR2HSV)\n",
    "\n",
    "hue, saturation, value = cv2.split(hsv)"
   ]
  },
  {
   "cell_type": "code",
   "execution_count": 11,
   "metadata": {},
   "outputs": [],
   "source": [
    "def show(image):\n",
    "    \n",
    "    resized_height = 720\n",
    "    percent = resized_height / len(image)\n",
    "    resized_width = int(percent * len(image[0]))\n",
    "    gray = cv2.resize(image,(resized_width,resized_height))\n",
    "\n",
    "    cv2.imshow('cringe', gray)\n",
    "    cv2.waitKey(0)\n",
    "    cv2.destroyAllWindows()"
   ]
  },
  {
   "cell_type": "code",
   "execution_count": 12,
   "metadata": {},
   "outputs": [],
   "source": [
    "if np.mean(color) < 128:\n",
    "    thresh = cv2.threshold(hue, 0, 255, cv2.THRESH_BINARY_INV + cv2.THRESH_OTSU)[1]\n",
    "else:\n",
    "    thresh = cv2.threshold(hue, 0, 255, cv2.THRESH_BINARY + cv2.THRESH_OTSU)[1]"
   ]
  },
  {
   "cell_type": "code",
   "execution_count": 13,
   "metadata": {},
   "outputs": [],
   "source": [
    "eroded = cv2.erode(thresh, kernel=None, iterations=7)\n",
    "dilated = cv2.dilate(eroded, kernel=None, iterations=15)\n",
    "eroded = cv2.erode(dilated, kernel=None, iterations=100)\n",
    "dilated = cv2.dilate(eroded, kernel=None, iterations=100)"
   ]
  },
  {
   "cell_type": "code",
   "execution_count": 14,
   "metadata": {},
   "outputs": [],
   "source": [
    "show(dilated)"
   ]
  },
  {
   "cell_type": "code",
   "execution_count": 15,
   "metadata": {},
   "outputs": [],
   "source": [
    "def extract_largest_rectangular_contour(color_image, preprocessed_image):\n",
    "    contours, _ = cv2.findContours(preprocessed_image, cv2.RETR_EXTERNAL, cv2.CHAIN_APPROX_SIMPLE)\n",
    "    largest_contour = None\n",
    "    largest_area = 0\n",
    "    largest_approx = None\n",
    "    \n",
    "    for contour in contours:\n",
    "        peri = cv2.arcLength(contour, True)\n",
    "        approx = cv2.approxPolyDP(contour, 0.02 * peri, True)\n",
    "        if len(approx) == 4:\n",
    "            area = cv2.contourArea(contour)\n",
    "            if area > largest_area:\n",
    "                largest_area = area\n",
    "                largest_contour = contour\n",
    "                largest_approx = approx\n",
    "                \n",
    "    if largest_contour is not None:\n",
    "        cv2.drawContours(color_image, [largest_approx], -1, (0, 255, 0), 3)\n",
    "        # x, y, w, h = cv2.boundingRect(largest_contour)\n",
    "        # cv2.rectangle(color_image, (x, y), (x + w, y + h), (0, 0, 255), 2)\n",
    "        return color_image, largest_approx\n",
    "    \n",
    "    return color_image, None"
   ]
  },
  {
   "cell_type": "code",
   "execution_count": 16,
   "metadata": {},
   "outputs": [],
   "source": [
    "im, cor = extract_largest_rectangular_contour(color, dilated)\n",
    "show(im)"
   ]
  },
  {
   "cell_type": "code",
   "execution_count": 17,
   "metadata": {},
   "outputs": [],
   "source": [
    "top = max(cor[0][0][1], cor[3][0][1])\n",
    "bottom = min(cor[1][0][1], cor[2][0][1])\n",
    "left = max(cor[0][0][0], cor[1][0][0])\n",
    "right = min(cor[2][0][0], cor[3][0][0])\n",
    "cropped = image[top:bottom, left:right]\n",
    "show(cropped)"
   ]
  },
  {
   "cell_type": "code",
   "execution_count": 18,
   "metadata": {},
   "outputs": [],
   "source": [
    "def order_points(coords):\n",
    "    pts = coords - [left, top]\n",
    "    pts = pts.reshape(4, 2)\n",
    "    sum_pts = pts.sum(axis=1)\n",
    "    diff_pts = np.diff(pts, axis=1)\n",
    "    \n",
    "    top_left = pts[np.argmin(sum_pts)]\n",
    "    top_right = pts[np.argmin(diff_pts)]\n",
    "    bottom_right = pts[np.argmax(sum_pts)]\n",
    "    bottom_left = pts[np.argmax(diff_pts)]\n",
    "    \n",
    "    return np.array([top_left, top_right, bottom_right, bottom_left])\n",
    "\n",
    "def calculate_size(img, ordered):\n",
    "    width = int(img.shape[1] * 0.9)\n",
    "    aspect_ratio = np.linalg.norm(ordered[0] - ordered[3]) / np.linalg.norm(ordered[0] - ordered[1])\n",
    "    return width, int(width * aspect_ratio)\n",
    "\n",
    "def process_image(img, contour):\n",
    "    ordered = order_points(contour)\n",
    "    img_with_pts = img.copy()\n",
    "    for pt in ordered:\n",
    "        img_with_pts = cv2.circle(img_with_pts, tuple(pt), 10, (255, 255, 255), -1)\n",
    "  \n",
    "    w, h = calculate_size(img, ordered)\n",
    "    \n",
    "    pts1 = np.float32(ordered)\n",
    "    pts2 = np.float32([[0, 0], [w, 0], [w, h], [0, h]])\n",
    "    matrix = cv2.getPerspectiveTransform(pts1, pts2)\n",
    "    \n",
    "    corrected_img = cv2.warpPerspective(img, matrix, (w, h))\n",
    "    \n",
    "    return img_with_pts, corrected_img"
   ]
  },
  {
   "cell_type": "code",
   "execution_count": 19,
   "metadata": {},
   "outputs": [],
   "source": [
    "_, corrected = process_image(cropped, cor)\n",
    "show(corrected)"
   ]
  },
  {
   "cell_type": "code",
   "execution_count": 20,
   "metadata": {},
   "outputs": [],
   "source": [
    "# clahe = cv2.createCLAHE(clipLimit=2.0, tileGridSize=(8, 8))\n",
    "# clahe_img = clahe.apply(corrected)\n",
    "# show(clahe_img)"
   ]
  },
  {
   "cell_type": "code",
   "execution_count": 21,
   "metadata": {},
   "outputs": [],
   "source": [
    "def unsharp_masking(image, k=1):\n",
    "    blur = cv2.GaussianBlur(image, (11,11), 0)\n",
    "    return cv2.addWeighted(image, k+1, blur, -k, 1)"
   ]
  },
  {
   "cell_type": "code",
   "execution_count": 22,
   "metadata": {},
   "outputs": [],
   "source": [
    "unsharp = unsharp_masking(corrected, 11)\n",
    "show(unsharp)"
   ]
  },
  {
   "cell_type": "code",
   "execution_count": 23,
   "metadata": {},
   "outputs": [],
   "source": [
    "thresh = np.where(unsharp > 64, 255, 0).astype(np.uint8)\n",
    "show(thresh)"
   ]
  },
  {
   "cell_type": "code",
   "execution_count": 24,
   "metadata": {},
   "outputs": [
    {
     "name": "stdout",
     "output_type": "stream",
     "text": [
      "BACCHUS INN”\n",
      "far A Restaurant\n",
      "Coatnsgar.hantoa!\n",
      "= CASH HEN ==\n",
      "Sones att wo, : SESS\n",
      "Hetoe T5\n",
      "\n",
      "Oty Rate, anount\n",
      "\n",
      "FINGER CHIPS, 1\n",
      "CH] GHEE ROAST BONLESS\n",
      "Fue\n",
      "\n",
      "CHI SHEE ROAST BONLESS\n",
      "HALE\n",
      "\n",
      "eRISPY CORN\n",
      "ORAGON CH\n",
      "\n",
      "ANAL RAWA FRY\n",
      "ARDARA KARAS\n",
      "\n",
      "SOFT DRUIKS SOOM.\n",
      "SERVICE CaBRE\n",
      "BOTTLE WATER 1 UR\n",
      "\n",
      "2230.00\n",
      "\n",
      "TEACHERS 69 HL PET 285\n",
      "\n",
      "1\n",
      "\n",
      "FC LUYURY 30H. 7 6 © 420\n",
      "BLACK DOG SOM 3150480\n",
      "BUWISER MASNEM 30M. 7-200 1400\n",
      "PCMONGY YOGHA 20H. 1B GOS.\n",
      "ADVAN CHIPS. to 20\n",
      "BAISHY SOUR 10 0\n",
      "\n",
      "VAS/3\n",
      "\n",
      "cstinsaerureeagonis\n",
      "\n",
      "aPricg inclusive of All Taxesé\n",
      "EOE, Thank You Vistt‘Avain\n",
      "\n",
      "WT\n",
      "\n",
      " \n",
      "\f\n"
     ]
    }
   ],
   "source": [
    "text = pytesseract.image_to_string(thresh)\n",
    "sentences=text.split('\\n')\n",
    "for s in sentences:\n",
    "    print(s)"
   ]
  },
  {
   "cell_type": "code",
   "execution_count": 25,
   "metadata": {},
   "outputs": [
    {
     "ename": "ModuleNotFoundError",
     "evalue": "No module named 'paddleocr'",
     "output_type": "error",
     "traceback": [
      "\u001b[0;31m---------------------------------------------------------------------------\u001b[0m",
      "\u001b[0;31mModuleNotFoundError\u001b[0m                       Traceback (most recent call last)",
      "Cell \u001b[0;32mIn[25], line 1\u001b[0m\n\u001b[0;32m----> 1\u001b[0m \u001b[38;5;28;01mfrom\u001b[39;00m \u001b[38;5;21;01mpaddleocr\u001b[39;00m \u001b[38;5;28;01mimport\u001b[39;00m PaddleOCR\n\u001b[1;32m      3\u001b[0m ocr \u001b[38;5;241m=\u001b[39m PaddleOCR(use_angle_cls\u001b[38;5;241m=\u001b[39m\u001b[38;5;28;01mTrue\u001b[39;00m, lang\u001b[38;5;241m=\u001b[39m\u001b[38;5;124m'\u001b[39m\u001b[38;5;124men\u001b[39m\u001b[38;5;124m'\u001b[39m)  \n\u001b[1;32m      5\u001b[0m result \u001b[38;5;241m=\u001b[39m ocr\u001b[38;5;241m.\u001b[39mocr(thresh, \u001b[38;5;28mcls\u001b[39m\u001b[38;5;241m=\u001b[39m\u001b[38;5;28;01mTrue\u001b[39;00m)\n",
      "\u001b[0;31mModuleNotFoundError\u001b[0m: No module named 'paddleocr'"
     ]
    }
   ],
   "source": [
    "from paddleocr import PaddleOCR\n",
    "\n",
    "ocr = PaddleOCR(use_angle_cls=True, lang='en')  \n",
    "\n",
    "result = ocr.ocr(thresh, cls=True)\n",
    "\n",
    "for line in result[0]:\n",
    "    print(f\"Detected text: {line[1][0]} with confidence: {line[1][1]}\")"
   ]
  },
  {
   "cell_type": "code",
   "execution_count": null,
   "metadata": {},
   "outputs": [
    {
     "name": "stderr",
     "output_type": "stream",
     "text": [
      "WARNING:easyocr.easyocr:Neither CUDA nor MPS are available - defaulting to CPU. Note: This module is much faster with a GPU.\n"
     ]
    },
    {
     "name": "stdout",
     "output_type": "stream",
     "text": [
      "Detected text: BACCHUS with confidence: 0.9886242994701175\n",
      "Detected text: INN with confidence: 0.8623996734977019\n",
      "Detected text: Mr with confidence: 0.12001676718911852\n",
      "Detected text: Festauram with confidence: 0.6476787484592748\n",
      "Detected text: Laxinoxr Honlpal with confidence: 0.13554649467996352\n",
      "Detected text: Casy hin with confidence: 0.025907343226557075\n",
      "Detected text: G&; with confidence: 0.11120615107758094\n",
      "Detected text: 88/09r24 with confidence: 0.4278346884374021\n",
      "Detected text: B with confidence: 0.10824091905023181\n",
      "Detected text: m. with confidence: 0.28639958028833695\n",
      "Detected text: S951 with confidence: 0.08385501056909561\n",
      "Detected text: No . with confidence: 0.2053610029537157\n",
      "Detected text: Itez with confidence: 0.5512901544570923\n",
      "Detected text: Oty Rate with confidence: 0.7404747270779826\n",
      "Detected text: Arurt with confidence: 0.7611616582955898\n",
      "Detected text: FIKGER CXIp5 with confidence: 0.3765034395559343\n",
      "Detected text: CHI GZE RJRST EOXLesS with confidence: 0.09115755743618592\n",
      "Detected text: 488 with confidence: 0.7193801713863561\n",
      "Detected text: 110 with confidence: 0.5218566663847162\n",
      "Detected text: FULL with confidence: 0.4979327619075775\n",
      "Detected text: 430 with confidence: 0.9941571473935283\n",
      "Detected text: CHIcG4EE Roxst  BJXLESS with confidence: 0.20326744871034486\n",
      "Detected text: 270 with confidence: 0.9979704052236328\n",
      "Detected text: 270 with confidence: 0.9984965892840428\n",
      "Detected text: HALF with confidence: 0.7470129132270813\n",
      "Detected text: cRISPy Cork with confidence: 0.1230052124824274\n",
      "Detected text: WzAgoX CI with confidence: 0.06655422530945682\n",
      "Detected text: ANJAL R4KA FrY with confidence: 0.16388474780668172\n",
      "Detected text: Ma64 03lars 5oohl with confidence: 0.0008273696837617177\n",
      "Detected text: U with confidence: 0.061294251233251495\n",
      "Detected text: SEAVICE Ciace with confidence: 0.08857758364290136\n",
      "Detected text: 8 with confidence: 0.09188398510383422\n",
      "Detected text: SWMTLE MRIS with confidence: 0.023927997714375496\n",
      "Detected text: LTR with confidence: 0.7471138812143739\n",
      "Detected text: Focd Tptal with confidence: 0.8579748419199021\n",
      "Detected text: 2230.00 with confidence: 0.20661263456497206\n",
      "Detected text: TeXcHERS 63 KL PET with confidence: 0.20465335414081576\n",
      "Detected text: 2685 with confidence: 0.49457788467407227\n",
      "Detected text: KC Lulry 30hd with confidence: 0.1806770352450199\n",
      "Detected text: BlacK CoC 3c+L with confidence: 0.024684676981479418\n",
      "Detected text: 38 with confidence: 0.2406283004448297\n",
      "Detected text: BcrngE OCex YorCgyl with confidence: 0.0003479355170573859\n",
      "Detected text: 1 with confidence: 0.39752734215886676\n",
      "Detected text: 1400 with confidence: 0.8178633451461792\n",
      "Detected text: Kovxk CHIPS with confidence: 0.2548294647793083\n",
      "Detected text: Ig with confidence: 0.44578875642631643\n",
      "Detected text: 368 with confidence: 0.15547185007420802\n",
      "Detected text: KHIZ,Y SOUR with confidence: 0.15358441387909721\n",
      "Detected text: 300 with confidence: 0.6956517524933234\n",
      "Detected text: Llqur Total with confidence: 0.7005826857733652\n",
      "Detected text: @1s.w  with confidence: 0.09513998631665661\n",
      "Detected text: 17/115/3 with confidence: 0.8433678913164397\n",
      "Detected text: Jota] with confidence: 0.3225830354965432\n",
      "Detected text: 16245 with confidence: 0.3173914012165049\n",
      "Detected text: GSTIN;ZEAFLFR43693128 with confidence: 0.11855831885459628\n",
      "Detected text: 'Price Incliive of AI with confidence: 0.36887188367630963\n",
      "Detected text: Taxes: with confidence: 0.5903830352035914\n",
      "Detected text: E.to.E_ with confidence: 0.6625685837959987\n",
      "Detected text: Ihank You with confidence: 0.37838309535705056\n",
      "Detected text: WisIt  Aoaiq with confidence: 0.0965332451374311\n",
      "Detected text: HUT with confidence: 0.05972274260648209\n"
     ]
    }
   ],
   "source": [
    "import easyocr\n",
    "\n",
    "reader = easyocr.Reader(['en'])  \n",
    "\n",
    "result = reader.readtext(thresh)\n",
    "\n",
    "for detection in result:\n",
    "    text = detection[1]\n",
    "    confidence = detection[2]\n",
    "    print(f\"Detected text: {text} with confidence: {confidence}\")"
   ]
  }
 ],
 "metadata": {
  "kernelspec": {
   "display_name": "Python 3",
   "language": "python",
   "name": "python3"
  },
  "language_info": {
   "codemirror_mode": {
    "name": "ipython",
    "version": 3
   },
   "file_extension": ".py",
   "mimetype": "text/x-python",
   "name": "python",
   "nbconvert_exporter": "python",
   "pygments_lexer": "ipython3",
   "version": "3.8.10"
  }
 },
 "nbformat": 4,
 "nbformat_minor": 2
}
