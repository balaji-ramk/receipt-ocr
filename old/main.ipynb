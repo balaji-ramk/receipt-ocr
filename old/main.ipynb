{
 "cells": [
  {
   "cell_type": "code",
   "execution_count": 1,
   "metadata": {},
   "outputs": [],
   "source": [
    "import cv2\n",
    "import numpy as np\n",
    "import matplotlib.pyplot as plt"
   ]
  },
  {
   "cell_type": "code",
   "execution_count": 2,
   "metadata": {},
   "outputs": [],
   "source": [
    "image = cv2.imread('images/receipt_image.jpg', 0)"
   ]
  },
  {
   "cell_type": "code",
   "execution_count": 3,
   "metadata": {},
   "outputs": [],
   "source": [
    "def show(image):\n",
    "    \n",
    "    resized_height = 720\n",
    "    percent = resized_height / len(image)\n",
    "    resized_width = int(percent * len(image[0]))\n",
    "    gray = cv2.resize(image,(resized_width,resized_height))\n",
    "\n",
    "\n",
    "    cv2.imshow('cringe', gray)\n",
    "    cv2.waitKey(0)\n",
    "    cv2.destroyAllWindows()"
   ]
  },
  {
   "cell_type": "markdown",
   "metadata": {},
   "source": [
    "# Approach 1: Blur, Canny, Threshold, Dilate -> Contours"
   ]
  },
  {
   "cell_type": "code",
   "execution_count": 5,
   "metadata": {},
   "outputs": [],
   "source": [
    "blurred_image = cv2.GaussianBlur(image, (9,9), 0)\n",
    "canny_image = cv2.Canny(blurred_image, 50, 150)\n",
    "threshold_image = cv2.threshold(canny_image, 0, 255, cv2.THRESH_BINARY + cv2.THRESH_OTSU)[1]\n",
    "dilated_image = cv2.dilate(threshold_image, None, iterations=5)"
   ]
  },
  {
   "cell_type": "code",
   "execution_count": 6,
   "metadata": {},
   "outputs": [],
   "source": [
    "show(dilated_image)"
   ]
  },
  {
   "cell_type": "markdown",
   "metadata": {},
   "source": [
    "# Approach 2: Blur, Gamma, Threshold, Hough -> Contours"
   ]
  },
  {
   "cell_type": "code",
   "execution_count": 23,
   "metadata": {},
   "outputs": [],
   "source": [
    "blurred_image = cv2.GaussianBlur(image, (9,9), 2)\n",
    "gamma_image = np.array(255*(blurred_image/255)**3, dtype=np.uint8)\n",
    "\n",
    "threshold_image = cv2.threshold(canny_image, 0, 255, cv2.THRESH_BINARY + cv2.THRESH_OTSU)[1]\n",
    "\n",
    "canny_image = cv2.Canny(gamma_image, 50, 200, None, 3)\n",
    "lines = cv2.HoughLines(canny_image, 1, np.pi/180, 150, None, 0, 0)\n",
    "\n",
    "# hough_image = np.zeros_like(image)\n",
    "hough_image = image.copy()\n",
    "\n",
    "if lines is not None:\n",
    "    for i in range(0, len(lines)):\n",
    "        rho = lines[i][0][0]\n",
    "        theta = lines[i][0][1]\n",
    "        a = np.cos(theta)\n",
    "        b = np.sin(theta)\n",
    "        x0 = a * rho\n",
    "        y0 = b * rho\n",
    "        pt1 = (int(x0 + 1000*(-b)), int(y0 + 1000*(a)))\n",
    "        pt2 = (int(x0 - 1000*(-b)), int(y0 - 1000*(a)))\n",
    "        cv2.line(hough_image, pt1, pt2, (255, 0, 255), 3, cv2.LINE_AA)\n",
    "        \n",
    "show(hough_image)\n",
    "\n",
    "# maybe crop this image based on hough, then apply clustering, etc.?"
   ]
  },
  {
   "cell_type": "markdown",
   "metadata": {},
   "source": [
    "# Approach 3: Segmenting based on clustering"
   ]
  },
  {
   "cell_type": "code",
   "execution_count": null,
   "metadata": {},
   "outputs": [],
   "source": [
    "log_image = np.array((255/(np.log(1+np.max(gamma_image)))) * np.log(1+gamma_image), dtype=np.uint8)\n",
    "# show(log_image)\n",
    "\n",
    "def cluster(image, k=2):\n",
    "    pixels = image.astype(np.float32).reshape(-1,1)\n",
    "    criteria = (cv2.TERM_CRITERIA_EPS + cv2.TERM_CRITERIA_MAX_ITER, 100, 0.2)\n",
    "\n",
    "    _, labels, centers = cv2.kmeans(pixels, k, None, criteria, 10, cv2.KMEANS_RANDOM_CENTERS)\n",
    "    centers = np.uint8(centers)\n",
    "\n",
    "    segmented = centers[labels.flatten()]\n",
    "    segmented = segmented.reshape(image.shape)\n",
    "    show(segmented)\n",
    "\n",
    "cluster(log_image, 2)"
   ]
  },
  {
   "cell_type": "markdown",
   "metadata": {},
   "source": [
    "# Approach 4: Segmenting based on Colors"
   ]
  },
  {
   "cell_type": "code",
   "execution_count": null,
   "metadata": {},
   "outputs": [],
   "source": [
    "color_image = cv2.imread('receipt_image.jpg')\n",
    "hsv_image = cv2.cvtColor(color_image, cv2.COLOR_BGR2HSV)\n",
    "\n",
    "lower_red = np.array([0, 100, 100])\n",
    "upper_red = np.array([10, 255, 255])\n",
    "mask1 = cv2.inRange(hsv_image, lower_red, upper_red)\n",
    "\n",
    "# Another range for red (because red wraps around the hue spectrum)\n",
    "lower_red2 = np.array([160, 100, 100])\n",
    "upper_red2 = np.array([180, 255, 255])\n",
    "mask2 = cv2.inRange(hsv_image, lower_red2, upper_red2)\n",
    "\n",
    "# Combine both masks\n",
    "mask = mask1 | mask2\n",
    "\n",
    "# Step 4: Apply the mask to the original image\n",
    "segmented_image = cv2.bitwise_and(image, image, mask=mask)\n",
    "\n",
    "show(hsv_image)\n",
    "print(hsv_image[480,480])"
   ]
  },
  {
   "cell_type": "markdown",
   "metadata": {},
   "source": [
    "# Approach 5: Trial"
   ]
  },
  {
   "cell_type": "code",
   "execution_count": 22,
   "metadata": {},
   "outputs": [],
   "source": [
    "color_image = cv2.imread('receipt_image.jpg')\n",
    "# hsv_image = cv2.cvtColor(color_image, cv2.COLOR_BGR2HSV)\n",
    "\n",
    "blurred_image = cv2.GaussianBlur(color_image, (9,9), 0)\n",
    "\n",
    "hsv_image = cv2.cvtColor(blurred_image, cv2.COLOR_BGR2HSV)\n",
    "# adaptive_thresholded = cv2.adaptiveThreshold(blurred_image, 255, cv2.ADAPTIVE_THRESH_GAUSSIAN_C, cv2.THRESH_BINARY, 11, 2)\n",
    "# show(adaptive_thresholded)\n",
    "show(hsv_image)\n",
    "\n"
   ]
  },
  {
   "cell_type": "code",
   "execution_count": 14,
   "metadata": {},
   "outputs": [],
   "source": [
    "blurred_image = cv2.GaussianBlur(image, (15,15), 5)\n",
    "rectKernel = cv2.getStructuringElement(cv2.MORPH_RECT, (15, 15))\n",
    "dilated = cv2.dilate(blurred_image, rectKernel, iterations=3)\n",
    "\n",
    "show(dilated)"
   ]
  },
  {
   "cell_type": "code",
   "execution_count": 20,
   "metadata": {},
   "outputs": [],
   "source": [
    "# different types of blurred images\n",
    "show(cv2.bilateralFilter(image, 15, 75, 75))\n",
    "# show(cv2.medianBlur(image, 9))\n"
   ]
  },
  {
   "cell_type": "markdown",
   "metadata": {},
   "source": [
    "# Finding the Contours"
   ]
  },
  {
   "cell_type": "code",
   "execution_count": 10,
   "metadata": {},
   "outputs": [],
   "source": [
    "contours, _ = cv2.findContours(log_image, cv2.RETR_TREE, cv2.CHAIN_APPROX_SIMPLE)\n",
    "cnt_image = image.copy()\n",
    "cv2.drawContours(cnt_image, contours, -1, (0,255,0), 3)\n",
    "rect_contours = []\n",
    "\n",
    "for contour in contours:\n",
    "    peri = cv2.arcLength(contour, True)\n",
    "    approx = cv2.approxPolyDP(contour, 0.02*peri, True)\n",
    "    \n",
    "    if len(approx) == 4:\n",
    "        rect_contours.append(approx)"
   ]
  },
  {
   "cell_type": "code",
   "execution_count": 11,
   "metadata": {},
   "outputs": [],
   "source": [
    "show(cnt_image)"
   ]
  },
  {
   "cell_type": "code",
   "execution_count": 21,
   "metadata": {},
   "outputs": [],
   "source": [
    "show(image)"
   ]
  },
  {
   "cell_type": "code",
   "execution_count": 25,
   "metadata": {},
   "outputs": [],
   "source": [
    "test = cv2.adaptiveThreshold(image, 255, cv2.ADAPTIVE_THRESH_GAUSSIAN_C, cv2.THRESH_BINARY_INV, 11, 2)\n",
    "lines = cv2.HoughLines(canny_image, 1, np.pi/180, 150, None, 0, 0)\n",
    "\n",
    "# hough_image = np.zeros_like(image)\n",
    "hough_image = image.copy()\n",
    "\n",
    "if lines is not None:\n",
    "    for i in range(0, len(lines)):\n",
    "        rho = lines[i][0][0]\n",
    "        theta = lines[i][0][1]\n",
    "        a = np.cos(theta)\n",
    "        b = np.sin(theta)\n",
    "        x0 = a * rho\n",
    "        y0 = b * rho\n",
    "        pt1 = (int(x0 + 1000*(-b)), int(y0 + 1000*(a)))\n",
    "        pt2 = (int(x0 - 1000*(-b)), int(y0 - 1000*(a)))\n",
    "        cv2.line(hough_image, pt1, pt2, (255, 0, 255), 3, cv2.LINE_AA)"
   ]
  },
  {
   "cell_type": "code",
   "execution_count": null,
   "metadata": {},
   "outputs": [],
   "source": []
  }
 ],
 "metadata": {
  "kernelspec": {
   "display_name": "Python 3",
   "language": "python",
   "name": "python3"
  },
  "language_info": {
   "codemirror_mode": {
    "name": "ipython",
    "version": 3
   },
   "file_extension": ".py",
   "mimetype": "text/x-python",
   "name": "python",
   "nbconvert_exporter": "python",
   "pygments_lexer": "ipython3",
   "version": "3.12.7"
  }
 },
 "nbformat": 4,
 "nbformat_minor": 2
}
