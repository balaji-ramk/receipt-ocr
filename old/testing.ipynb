{
 "cells": [
  {
   "cell_type": "code",
   "execution_count": 1,
   "metadata": {},
   "outputs": [],
   "source": [
    "import cv2\n",
    "import numpy as np\n",
    "import matplotlib.pyplot as plt"
   ]
  },
  {
   "cell_type": "code",
   "execution_count": 136,
   "metadata": {},
   "outputs": [],
   "source": [
    "image = cv2.imread('images/receipt_image.jpg', 0)\n",
    "color = cv2.imread('images/receipt_image.jpg')\n",
    "hsv = cv2.cvtColor(color, cv2.COLOR_BGR2HSV)\n",
    "\n",
    "hue, saturation, value = cv2.split(hsv)"
   ]
  },
  {
   "cell_type": "code",
   "execution_count": 68,
   "metadata": {},
   "outputs": [],
   "source": [
    "def show(image):\n",
    "    resized_height = 720\n",
    "    percent = resized_height / len(image)\n",
    "    resized_width = int(percent * len(image[0]))\n",
    "    gray = cv2.resize(image,(resized_width,resized_height))\n",
    "\n",
    "\n",
    "    cv2.imshow('cringe', gray)\n",
    "    cv2.waitKey(0)\n",
    "    cv2.destroyAllWindows()"
   ]
  },
  {
   "cell_type": "code",
   "execution_count": 99,
   "metadata": {},
   "outputs": [],
   "source": [
    "show(hue)\n",
    "show(image)"
   ]
  },
  {
   "cell_type": "code",
   "execution_count": 185,
   "metadata": {},
   "outputs": [],
   "source": [
    "def extract_contours(image, thresh):\n",
    "    contours, _ = cv2.findContours(thresh, cv2.RETR_EXTERNAL, cv2.CHAIN_APPROX_SIMPLE)\n",
    "\n",
    "    image_copy = image.copy()\n",
    "    cv2.drawContours(image_copy, contours, -1, (0, 255, 255), 2)\n",
    "\n",
    "    return image_copy"
   ]
  },
  {
   "cell_type": "code",
   "execution_count": 206,
   "metadata": {},
   "outputs": [],
   "source": [
    "def extract_largest_rectangular_contour(color_image, preprocessed_image):\n",
    "    contours, _ = cv2.findContours(preprocessed_image, cv2.RETR_EXTERNAL, cv2.CHAIN_APPROX_SIMPLE)\n",
    "    largest_contour = None\n",
    "    largest_area = 0\n",
    "    largest_approx = None\n",
    "    \n",
    "    for contour in contours:\n",
    "        peri = cv2.arcLength(contour, True)\n",
    "        approx = cv2.approxPolyDP(contour, 0.02 * peri, True)\n",
    "        if len(approx) == 4:\n",
    "            area = cv2.contourArea(contour)\n",
    "            if area > largest_area:\n",
    "                largest_area = area\n",
    "                largest_contour = contour\n",
    "                largest_approx = approx\n",
    "                \n",
    "    if largest_contour is not None:\n",
    "        cv2.drawContours(color_image, [largest_approx], -1, (0, 255, 0), 3)\n",
    "        x, y, w, h = cv2.boundingRect(largest_contour)\n",
    "        cv2.rectangle(color_image, (x, y), (x + w, y + h), (0, 0, 255), 2)\n",
    "        return color_image, largest_approx\n",
    "    \n",
    "    return color_image, None"
   ]
  },
  {
   "cell_type": "code",
   "execution_count": 211,
   "metadata": {},
   "outputs": [],
   "source": [
    "def extract_largest_rectangular_contour_and_perspective(color_image, preprocessed_image):\n",
    "    contours, _ = cv2.findContours(preprocessed_image, cv2.RETR_EXTERNAL, cv2.CHAIN_APPROX_SIMPLE)\n",
    "    largest_contour = None\n",
    "    largest_area = 0\n",
    "    largest_approx = None\n",
    "    \n",
    "    for contour in contours:\n",
    "        peri = cv2.arcLength(contour, True)\n",
    "        approx = cv2.approxPolyDP(contour, 0.02 * peri, True)\n",
    "        if len(approx) == 4:  # Only consider rectangles\n",
    "            area = cv2.contourArea(contour)\n",
    "            if area > largest_area:\n",
    "                largest_area = area\n",
    "                largest_contour = contour\n",
    "                largest_approx = approx\n",
    "                \n",
    "    if largest_contour is not None and largest_approx is not None:\n",
    "        cv2.drawContours(color_image, [largest_approx], -1, (0, 255, 0), 3)\n",
    "        x, y, w, h = cv2.boundingRect(largest_contour)\n",
    "        cv2.rectangle(color_image, (x, y), (x + w, y + h), (0, 0, 255), 2)\n",
    "        \n",
    "        rect_pts = np.array(largest_approx, dtype=\"float32\")\n",
    "        \n",
    "        # Ensure we have exactly 4 points for the rectangle\n",
    "        if rect_pts.shape[0] == 4:\n",
    "            rect_pts = order_points(rect_pts)\n",
    "            width, height = get_perspective_dimensions(rect_pts)\n",
    "            dst_pts = np.array([\n",
    "                [0, 0],\n",
    "                [width - 1, 0],\n",
    "                [width - 1, height - 1],\n",
    "                [0, height - 1]\n",
    "            ], dtype=\"float32\")\n",
    "            \n",
    "            M = cv2.getPerspectiveTransform(rect_pts, dst_pts)\n",
    "            warped_image = cv2.warpPerspective(color_image, M, (width, height))\n",
    "            return warped_image, largest_approx\n",
    "        else:\n",
    "            print(\"Error: Approximation did not yield 4 points.\")\n",
    "            return color_image, None\n",
    "    \n",
    "    return color_image, None\n",
    "\n",
    "def order_points(pts):\n",
    "    s = pts.sum(axis=1)\n",
    "    diff = np.diff(pts, axis=1)\n",
    "    ordered_pts = np.zeros((4, 2), dtype=\"float32\")\n",
    "    \n",
    "    ordered_pts[0] = pts[np.argmin(s)]  # Top-left point\n",
    "    ordered_pts[2] = pts[np.argmax(s)]  # Bottom-right point\n",
    "    ordered_pts[1] = pts[np.argmin(diff)]  # Top-right point\n",
    "    ordered_pts[3] = pts[np.argmax(diff)]  # Bottom-left point\n",
    "    \n",
    "    return ordered_pts\n",
    "\n",
    "def get_perspective_dimensions(pts):\n",
    "    width1 = np.linalg.norm(pts[0] - pts[1])\n",
    "    width2 = np.linalg.norm(pts[2] - pts[3])\n",
    "    max_width = max(int(width1), int(width2))\n",
    "    \n",
    "    height1 = np.linalg.norm(pts[0] - pts[3])\n",
    "    height2 = np.linalg.norm(pts[1] - pts[2])\n",
    "    max_height = max(int(height1), int(height2))\n",
    "    \n",
    "    return max_width, max_height"
   ]
  },
  {
   "cell_type": "code",
   "execution_count": 213,
   "metadata": {},
   "outputs": [
    {
     "ename": "IndexError",
     "evalue": "index 5 is out of bounds for axis 0 with size 4",
     "output_type": "error",
     "traceback": [
      "\u001b[1;31m---------------------------------------------------------------------------\u001b[0m",
      "\u001b[1;31mIndexError\u001b[0m                                Traceback (most recent call last)",
      "Cell \u001b[1;32mIn[213], line 1\u001b[0m\n\u001b[1;32m----> 1\u001b[0m im, cor \u001b[38;5;241m=\u001b[39m \u001b[43mextract_largest_rectangular_contour_and_perspective\u001b[49m\u001b[43m(\u001b[49m\u001b[43mcolor\u001b[49m\u001b[43m,\u001b[49m\u001b[43m \u001b[49m\u001b[43mdilated\u001b[49m\u001b[43m)\u001b[49m\n\u001b[0;32m      2\u001b[0m show(im)\n",
      "Cell \u001b[1;32mIn[211], line 26\u001b[0m, in \u001b[0;36mextract_largest_rectangular_contour_and_perspective\u001b[1;34m(color_image, preprocessed_image)\u001b[0m\n\u001b[0;32m     24\u001b[0m \u001b[38;5;66;03m# Ensure we have exactly 4 points for the rectangle\u001b[39;00m\n\u001b[0;32m     25\u001b[0m \u001b[38;5;28;01mif\u001b[39;00m rect_pts\u001b[38;5;241m.\u001b[39mshape[\u001b[38;5;241m0\u001b[39m] \u001b[38;5;241m==\u001b[39m \u001b[38;5;241m4\u001b[39m:\n\u001b[1;32m---> 26\u001b[0m     rect_pts \u001b[38;5;241m=\u001b[39m \u001b[43morder_points\u001b[49m\u001b[43m(\u001b[49m\u001b[43mrect_pts\u001b[49m\u001b[43m)\u001b[49m\n\u001b[0;32m     27\u001b[0m     width, height \u001b[38;5;241m=\u001b[39m get_perspective_dimensions(rect_pts)\n\u001b[0;32m     28\u001b[0m     dst_pts \u001b[38;5;241m=\u001b[39m np\u001b[38;5;241m.\u001b[39marray([\n\u001b[0;32m     29\u001b[0m         [\u001b[38;5;241m0\u001b[39m, \u001b[38;5;241m0\u001b[39m],\n\u001b[0;32m     30\u001b[0m         [width \u001b[38;5;241m-\u001b[39m \u001b[38;5;241m1\u001b[39m, \u001b[38;5;241m0\u001b[39m],\n\u001b[0;32m     31\u001b[0m         [width \u001b[38;5;241m-\u001b[39m \u001b[38;5;241m1\u001b[39m, height \u001b[38;5;241m-\u001b[39m \u001b[38;5;241m1\u001b[39m],\n\u001b[0;32m     32\u001b[0m         [\u001b[38;5;241m0\u001b[39m, height \u001b[38;5;241m-\u001b[39m \u001b[38;5;241m1\u001b[39m]\n\u001b[0;32m     33\u001b[0m     ], dtype\u001b[38;5;241m=\u001b[39m\u001b[38;5;124m\"\u001b[39m\u001b[38;5;124mfloat32\u001b[39m\u001b[38;5;124m\"\u001b[39m)\n",
      "Cell \u001b[1;32mIn[211], line 50\u001b[0m, in \u001b[0;36morder_points\u001b[1;34m(pts)\u001b[0m\n\u001b[0;32m     47\u001b[0m ordered_pts \u001b[38;5;241m=\u001b[39m np\u001b[38;5;241m.\u001b[39mzeros((\u001b[38;5;241m4\u001b[39m, \u001b[38;5;241m2\u001b[39m), dtype\u001b[38;5;241m=\u001b[39m\u001b[38;5;124m\"\u001b[39m\u001b[38;5;124mfloat32\u001b[39m\u001b[38;5;124m\"\u001b[39m)\n\u001b[0;32m     49\u001b[0m ordered_pts[\u001b[38;5;241m0\u001b[39m] \u001b[38;5;241m=\u001b[39m pts[np\u001b[38;5;241m.\u001b[39margmin(s)]  \u001b[38;5;66;03m# Top-left point\u001b[39;00m\n\u001b[1;32m---> 50\u001b[0m ordered_pts[\u001b[38;5;241m2\u001b[39m] \u001b[38;5;241m=\u001b[39m \u001b[43mpts\u001b[49m\u001b[43m[\u001b[49m\u001b[43mnp\u001b[49m\u001b[38;5;241;43m.\u001b[39;49m\u001b[43margmax\u001b[49m\u001b[43m(\u001b[49m\u001b[43ms\u001b[49m\u001b[43m)\u001b[49m\u001b[43m]\u001b[49m  \u001b[38;5;66;03m# Bottom-right point\u001b[39;00m\n\u001b[0;32m     51\u001b[0m ordered_pts[\u001b[38;5;241m1\u001b[39m] \u001b[38;5;241m=\u001b[39m pts[np\u001b[38;5;241m.\u001b[39margmin(diff)]  \u001b[38;5;66;03m# Top-right point\u001b[39;00m\n\u001b[0;32m     52\u001b[0m ordered_pts[\u001b[38;5;241m3\u001b[39m] \u001b[38;5;241m=\u001b[39m pts[np\u001b[38;5;241m.\u001b[39margmax(diff)]  \u001b[38;5;66;03m# Bottom-left point\u001b[39;00m\n",
      "\u001b[1;31mIndexError\u001b[0m: index 5 is out of bounds for axis 0 with size 4"
     ]
    }
   ],
   "source": [
    "im, cor = extract_largest_rectangular_contour_and_perspective(color, dilated)\n",
    "show(im)"
   ]
  },
  {
   "cell_type": "code",
   "execution_count": 208,
   "metadata": {},
   "outputs": [
    {
     "name": "stdout",
     "output_type": "stream",
     "text": [
      "[[[ 330  386]]\n",
      "\n",
      " [[ 306 1218]]\n",
      "\n",
      " [[ 701 1221]]\n",
      "\n",
      " [[ 708  370]]]\n"
     ]
    }
   ],
   "source": [
    "im, cor = extract_largest_rectangular_contour(color, dilated)\n",
    "show(im)\n",
    "print(cor)"
   ]
  },
  {
   "cell_type": "code",
   "execution_count": 186,
   "metadata": {},
   "outputs": [],
   "source": [
    "show(extract_contours(color, dilated))"
   ]
  },
  {
   "cell_type": "code",
   "execution_count": 184,
   "metadata": {},
   "outputs": [
    {
     "data": {
      "text/plain": [
       "True"
      ]
     },
     "execution_count": 184,
     "metadata": {},
     "output_type": "execute_result"
    }
   ],
   "source": [
    "\n",
    "thresh = cv2.threshold(hue, 0, 255, cv2.THRESH_BINARY_INV + cv2.THRESH_OTSU)[1]\n",
    "show(thresh)\n",
    "\n",
    "eroded = cv2.erode(thresh, kernel=None, iterations=7)\n",
    "show(eroded)\n",
    "dilated = cv2.dilate(eroded, kernel=None, iterations=15)\n",
    "show(dilated)\n",
    "\n",
    "cv2.imwrite('temp.jpg', dilated)\n",
    "\n"
   ]
  },
  {
   "cell_type": "code",
   "execution_count": 181,
   "metadata": {},
   "outputs": [],
   "source": [
    "def extract_rectangle_from_edges(color_image, binary_image):\n",
    "    edges = binary_image\n",
    "    lines = cv2.HoughLinesP(edges, 1, np.pi / 180, threshold=100, minLineLength=100, maxLineGap=10)\n",
    "    color_image = color_image.copy()\n",
    "    \n",
    "    horizontal_lines = []\n",
    "    vertical_lines = []\n",
    "    \n",
    "    if lines is not None:\n",
    "        lines = np.squeeze(lines)\n",
    "\n",
    "        for line in lines:\n",
    "            x1, y1, x2, y2 = line\n",
    "            # Calculate the angle of the line using the arctangent of the slope\n",
    "            angle = np.arctan2(y2 - y1, x2 - x1) * 180 / np.pi  # Convert angle to degrees\n",
    "            \n",
    "            # Classify the line based on its angle\n",
    "            if 0 <= angle <= 20 or 340 <= angle <= 360:\n",
    "                vertical_lines.append(line)\n",
    "            elif 160 <= angle <= 200:  # Horizontal lines (angle close to 0 or 180 degrees)\n",
    "                horizontal_lines.append(line)\n",
    "        print(horizontal_lines)\n",
    "        print(vertical_lines)\n",
    "        if len(horizontal_lines) >= 2 and len(vertical_lines) >= 2:\n",
    "            x1, y1, x2, y2 = horizontal_lines[0]\n",
    "            x3, y3, x4, y4 = horizontal_lines[1]\n",
    "            x5, y5, x6, y6 = vertical_lines[0]\n",
    "            x7, y7, x8, y8 = vertical_lines[1]\n",
    "            \n",
    "            rectangle_points = [(x1, y1), (x3, y3), (x5, y5), (x7, y7)]\n",
    "            \n",
    "            rectangle_points = np.array(rectangle_points, dtype=np.int32)\n",
    "            cv2.polylines(color_image, [rectangle_points], isClosed=True, color=(0, 255, 0), thickness=2)\n",
    "            \n",
    "            for line in horizontal_lines + vertical_lines:\n",
    "                x1, y1, x2, y2 = line\n",
    "                cv2.line(color_image, (x1, y1), (x2, y2), (255, 0, 0), 2)\n",
    "    \n",
    "    return color_image"
   ]
  },
  {
   "cell_type": "code",
   "execution_count": 182,
   "metadata": {},
   "outputs": [
    {
     "name": "stdout",
     "output_type": "stream",
     "text": [
      "[]\n",
      "[array([  24, 1195,  124, 1231], dtype=int32), array([  24, 1197,  124, 1233], dtype=int32), array([ 361, 1321,  551, 1382], dtype=int32), array([ 434, 1348,  555, 1390], dtype=int32), array([779, 238, 976, 291], dtype=int32), array([779, 215, 965, 268], dtype=int32), array([475, 135, 583, 169], dtype=int32), array([ 401, 1338,  559, 1393], dtype=int32), array([ 722, 1434,  843, 1473], dtype=int32), array([780, 205, 948, 260], dtype=int32), array([ 361, 1322,  555, 1389], dtype=int32), array([779, 233, 969, 280], dtype=int32), array([ 372, 1299,  534, 1348], dtype=int32), array([ 730, 1429,  846, 1464], dtype=int32), array([474, 127, 581, 158], dtype=int32), array([474, 123, 579, 155], dtype=int32), array([ 361, 1315,  472, 1351], dtype=int32), array([779, 207, 947, 261], dtype=int32), array([474, 118, 575, 149], dtype=int32), array([779, 210, 965, 270], dtype=int32), array([ 377, 1296,  534, 1344], dtype=int32), array([779, 219, 965, 273], dtype=int32), array([ 675, 1466,  854, 1531], dtype=int32), array([ 381, 1296,  533, 1331], dtype=int32), array([798, 250, 980, 302], dtype=int32), array([781, 203, 941, 255], dtype=int32), array([793, 244, 980, 298], dtype=int32), array([780, 231, 965, 277], dtype=int32), array([483, 157, 583, 184], dtype=int32), array([ 736, 1431,  844, 1470], dtype=int32), array([780, 204, 945, 258], dtype=int32), array([483, 146, 583, 173], dtype=int32), array([483, 155, 583, 179], dtype=int32), array([ 720, 1436,  844, 1476], dtype=int32), array([ 377, 1301,  545, 1359], dtype=int32), array([779, 208, 963, 267], dtype=int32), array([792, 243, 979, 294], dtype=int32), array([779, 236, 973, 288], dtype=int32), array([ 372, 1297,  534, 1347], dtype=int32), array([782, 218, 965, 271], dtype=int32), array([778, 195, 941, 254], dtype=int32), array([ 380, 1296,  534, 1343], dtype=int32), array([ 363, 1318,  551, 1379], dtype=int32), array([813, 261, 980, 306], dtype=int32), array([798, 249, 980, 301], dtype=int32), array([474, 134, 583, 166], dtype=int32), array([ 390, 1295,  532, 1328], dtype=int32), array([ 679, 1464,  852, 1524], dtype=int32), array([779, 223, 964, 273], dtype=int32), array([ 728, 1433,  843, 1470], dtype=int32), array([781, 230, 965, 276], dtype=int32), array([ 386, 1296,  534, 1338], dtype=int32), array([ 741, 1427,  851, 1456], dtype=int32), array([ 684, 1458,  851, 1512], dtype=int32), array([775, 192, 940, 252], dtype=int32), array([802, 254, 978, 305], dtype=int32), array([ 361, 1317,  477, 1353], dtype=int32), array([779, 234, 970, 285], dtype=int32), array([ 683, 1461,  837, 1511], dtype=int32), array([780, 227, 955, 271], dtype=int32), array([838, 284, 981, 312], dtype=int32), array([474, 110, 574, 143], dtype=int32), array([ 744, 1422,  851, 1449], dtype=int32), array([780, 201, 914, 245], dtype=int32), array([812, 262, 981, 307], dtype=int32), array([ 361, 1314,  478, 1350], dtype=int32), array([474, 112, 575, 145], dtype=int32), array([ 751, 1416,  852, 1447], dtype=int32), array([ 406, 1336,  553, 1384], dtype=int32), array([798, 251, 979, 303], dtype=int32), array([818, 268, 981, 308], dtype=int32), array([ 384, 1290,  525, 1307], dtype=int32), array([785, 235, 967, 280], dtype=int32), array([780, 216, 925, 258], dtype=int32), array([ 720, 1437,  833, 1478], dtype=int32), array([ 720, 1438,  844, 1483], dtype=int32), array([820, 269, 981, 309], dtype=int32), array([ 454, 1379,  581, 1422], dtype=int32), array([ 383, 1282,  515, 1301], dtype=int32), array([779, 222, 908, 257], dtype=int32), array([ 382, 1281,  517, 1300], dtype=int32), array([779, 218, 964, 271], dtype=int32), array([ 716, 1474,  854, 1522], dtype=int32), array([ 383, 1290,  531, 1318], dtype=int32), array([ 415, 1300,  532, 1327], dtype=int32), array([ 379, 1277,  517, 1297], dtype=int32), array([ 419, 1303,  529, 1336], dtype=int32), array([ 687, 1469,  833, 1522], dtype=int32), array([ 380, 1277,  517, 1289], dtype=int32), array([ 851, 1346,  967, 1346], dtype=int32), array([814, 253, 979, 298], dtype=int32), array([ 735, 1427,  850, 1462], dtype=int32), array([ 383, 1283,  525, 1306], dtype=int32), array([ 376, 1297,  534, 1345], dtype=int32), array([782, 204, 942, 256], dtype=int32), array([830, 277, 969, 309], dtype=int32), array([ 744, 1425,  850, 1459], dtype=int32), array([ 740, 1427,  850, 1460], dtype=int32), array([ 749, 1424,  850, 1452], dtype=int32), array([ 861, 1345,  973, 1345], dtype=int32), array([ 748, 1419,  851, 1448], dtype=int32), array([788, 236, 928, 271], dtype=int32), array([809, 259, 920, 289], dtype=int32), array([ 385, 1292,  531, 1323], dtype=int32), array([ 387, 1291,  531, 1321], dtype=int32), array([779, 213, 885, 245], dtype=int32), array([ 724, 1435,  840, 1474], dtype=int32), array([ 414, 1294,  525, 1311], dtype=int32), array([827, 275, 979, 310], dtype=int32), array([ 680, 1463,  854, 1523], dtype=int32), array([ 434, 1325,  546, 1364], dtype=int32), array([ 744, 1423,  850, 1453], dtype=int32), array([ 681, 1462,  853, 1518], dtype=int32), array([ 396, 1300,  534, 1342], dtype=int32), array([ 416, 1357,  544, 1364], dtype=int32), array([483, 158, 583, 185], dtype=int32), array([818, 266, 956, 301], dtype=int32), array([ 387, 1277,  515, 1286], dtype=int32), array([779, 199, 915, 244], dtype=int32), array([474, 131, 583, 165], dtype=int32), array([ 686, 1456,  831, 1501], dtype=int32), array([841, 288, 981, 318], dtype=int32), array([794, 247, 920, 281], dtype=int32), array([781, 232, 906, 263], dtype=int32), array([ 428, 1361,  549, 1368], dtype=int32), array([483, 148, 583, 175], dtype=int32), array([ 377, 1275,  515, 1285], dtype=int32), array([ 682, 1459,  815, 1503], dtype=int32), array([474, 130, 582, 163], dtype=int32), array([ 728, 1430,  844, 1467], dtype=int32), array([ 862, 1344,  977, 1344], dtype=int32), array([ 727, 1434,  842, 1471], dtype=int32), array([ 390, 1294,  531, 1324], dtype=int32), array([ 451, 1358,  561, 1398], dtype=int32), array([ 859, 1347,  966, 1347], dtype=int32), array([ 344, 1267,  515, 1282], dtype=int32), array([857, 280, 963, 306], dtype=int32), array([ 743, 1475,  849, 1510], dtype=int32), array([779, 224, 899, 256], dtype=int32), array([779, 206, 948, 261], dtype=int32), array([477, 139, 582, 169], dtype=int32), array([ 738, 1473,  841, 1505], dtype=int32), array([868, 265, 978, 295], dtype=int32), array([ 744, 1420,  850, 1447], dtype=int32), array([835, 279, 981, 316], dtype=int32), array([ 733, 1428,  849, 1463], dtype=int32), array([ 743, 1426,  849, 1455], dtype=int32), array([ 347, 1237,  552, 1266], dtype=int32), array([ 346, 1246,  520, 1267], dtype=int32), array([ 862, 1343,  977, 1343], dtype=int32), array([ 687, 1455,  810, 1493], dtype=int32), array([804, 246, 969, 281], dtype=int32), array([ 384, 1283,  525, 1305], dtype=int32), array([ 380, 1274,  515, 1283], dtype=int32), array([ 862, 1342,  977, 1342], dtype=int32), array([ 407, 1293,  525, 1316], dtype=int32), array([ 717, 1439,  844, 1485], dtype=int32), array([474, 117, 575, 148], dtype=int32), array([796, 214, 965, 269], dtype=int32), array([856, 295, 977, 337], dtype=int32), array([ 412, 1281,  517, 1290], dtype=int32), array([879, 293, 981, 324], dtype=int32), array([870, 269, 980, 299], dtype=int32), array([863, 294, 981, 330], dtype=int32), array([ 731, 1440,  844, 1477], dtype=int32), array([861, 291, 980, 317], dtype=int32), array([841, 243, 952, 272], dtype=int32), array([851, 292, 978, 335], dtype=int32), array([ 865, 1341,  977, 1341], dtype=int32), array([817, 264, 979, 307], dtype=int32)]\n"
     ]
    }
   ],
   "source": [
    "show(extract_rectangle_from_edges(color, dilated))"
   ]
  },
  {
   "cell_type": "code",
   "execution_count": 180,
   "metadata": {},
   "outputs": [],
   "source": [
    "show(color)"
   ]
  },
  {
   "cell_type": "code",
   "execution_count": 114,
   "metadata": {},
   "outputs": [],
   "source": [
    "im = extract_contours(color, dilated)\n",
    "show(im)"
   ]
  },
  {
   "cell_type": "code",
   "execution_count": 125,
   "metadata": {},
   "outputs": [],
   "source": [
    "show(dilated)"
   ]
  },
  {
   "cell_type": "code",
   "execution_count": 205,
   "metadata": {},
   "outputs": [],
   "source": [
    "eroded = cv2.erode(dilated, kernel=None, iterations=100)\n",
    "show(eroded)\n",
    "\n",
    "dilated = cv2.dilate(eroded, kernel=None, iterations=100)\n",
    "show(extract_contours(color, dilated))"
   ]
  },
  {
   "cell_type": "code",
   "execution_count": null,
   "metadata": {},
   "outputs": [],
   "source": [
    "def filter_contours_and_leave_only_rectangles(self):\n",
    "    self.rectangular_contours = []\n",
    "    for contour in self.contours:\n",
    "        peri = cv2.arcLength(contour, True)\n",
    "        approx = cv2.approxPolyDP(contour, 0.02 * peri, True)\n",
    "        if len(approx) == 4:\n",
    "            self.rectangular_contours.append(approx)\n",
    "    # Below lines are added to show all rectangular contours\n",
    "    # This is not needed, but it is useful for debugging\n",
    "    self.image_with_only_rectangular_contours = self.image.copy()\n",
    "    cv2.drawContours(self.image_with_only_rectangular_contours, self.rectangular_contours, -1, (0, 255, 0), 3)"
   ]
  },
  {
   "cell_type": "code",
   "execution_count": null,
   "metadata": {},
   "outputs": [],
   "source": []
  },
  {
   "cell_type": "code",
   "execution_count": null,
   "metadata": {},
   "outputs": [],
   "source": []
  },
  {
   "cell_type": "code",
   "execution_count": 73,
   "metadata": {},
   "outputs": [],
   "source": [
    "adaptive_thresh = cv2.adaptiveThreshold(hue, 255, cv2.ADAPTIVE_THRESH_GAUSSIAN_C, cv2.THRESH_BINARY_INV,11,2)\n",
    "show(adaptive_thresh)"
   ]
  },
  {
   "cell_type": "code",
   "execution_count": 72,
   "metadata": {},
   "outputs": [],
   "source": [
    "# show(adaptive_thresh)\n",
    "\n",
    "median_blur = cv2.medianBlur(adaptive_thresh, ksize=7)\n",
    "show(median_blur)\n",
    "\n",
    "gaussian = cv2.GaussianBlur(median_blur, (15,15), 0)\n",
    "show(gaussian)"
   ]
  },
  {
   "cell_type": "code",
   "execution_count": 44,
   "metadata": {},
   "outputs": [],
   "source": [
    "eroded = cv2.erode(gaussian, kernel=None, iterations=1)\n",
    "dilated = cv2.dilate(eroded, kernel=None, iterations=2)\n",
    "show(dilated)\n",
    "\n",
    "eroded = cv2.erode(dilated, kernel=None, iterations=1)\n",
    "dilated = cv2.dilate(eroded, kernel=None, iterations=2)\n",
    "\n",
    "\n",
    "eroded = cv2.erode(dilated, kernel=None, iterations=1)\n",
    "dilated = cv2.dilate(eroded, kernel=None, iterations=2)\n",
    "\n",
    "\n",
    "eroded = cv2.erode(dilated, kernel=None, iterations=1)\n",
    "dilated = cv2.dilate(eroded, kernel=None, iterations=2)\n",
    "\n",
    "\n",
    "eroded = cv2.erode(dilated, kernel=None, iterations=1)\n",
    "dilated = cv2.dilate(eroded, kernel=None, iterations=2)\n",
    "\n",
    "\n",
    "eroded = cv2.erode(dilated, kernel=None, iterations=1)\n",
    "dilated = cv2.dilate(eroded, kernel=None, iterations=2)\n",
    "\n",
    "eroded = cv2.erode(dilated, kernel=None, iterations=1)\n",
    "dilated = cv2.dilate(eroded, kernel=None, iterations=2)\n",
    "show(dilated)"
   ]
  },
  {
   "cell_type": "code",
   "execution_count": 52,
   "metadata": {},
   "outputs": [],
   "source": [
    "eroded = cv2.erode(dilated, kernel=None, iterations=12)\n",
    "show(eroded)"
   ]
  },
  {
   "cell_type": "code",
   "execution_count": 50,
   "metadata": {},
   "outputs": [],
   "source": [
    "sift = cv2.SIFT_create()\n",
    "kp = sift.detect(eroded,None)\n",
    "\n",
    "\n",
    "img2 = cv2.drawKeypoints(image.copy(), kp, None, color=(255,0,0))\n",
    "\n",
    "show(img2)"
   ]
  },
  {
   "cell_type": "code",
   "execution_count": null,
   "metadata": {},
   "outputs": [],
   "source": []
  }
 ],
 "metadata": {
  "kernelspec": {
   "display_name": "Python 3",
   "language": "python",
   "name": "python3"
  },
  "language_info": {
   "codemirror_mode": {
    "name": "ipython",
    "version": 3
   },
   "file_extension": ".py",
   "mimetype": "text/x-python",
   "name": "python",
   "nbconvert_exporter": "python",
   "pygments_lexer": "ipython3",
   "version": "3.12.7"
  }
 },
 "nbformat": 4,
 "nbformat_minor": 2
}
